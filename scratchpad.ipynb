{
 "cells": [
  {
   "cell_type": "code",
   "execution_count": 91,
   "metadata": {},
   "outputs": [
    {
     "name": "stdout",
     "output_type": "stream",
     "text": [
      "{\"message\":\"pong\"}\n"
     ]
    }
   ],
   "source": [
    "import requests\n",
    "\n",
    "response = requests.get('http://localhost:8000/ping/')\n",
    "print(response.text)"
   ]
  },
  {
   "cell_type": "code",
   "execution_count": 87,
   "metadata": {},
   "outputs": [
    {
     "name": "stdout",
     "output_type": "stream",
     "text": [
      "201\n",
      "{'id': '5241859f-bce2-437b-8930-217a475f96fa', 'content': 'This is a test post.', 'title': 'Hello, world!'}\n"
     ]
    }
   ],
   "source": [
    "import requests\n",
    "from uuid import uuid4\n",
    "\n",
    "new_id = str(uuid4())\n",
    "new_item_response = requests.post(\n",
    "    url=\"http://localhost:8000/items/create\",\n",
    "    json={\n",
    "        \"id\": new_id,\n",
    "        \"title\": \"New Item\",\n",
    "        \"content\": \"This is a new item.\",\n",
    "        \"published\": True,\n",
    "        \"created_at\": \"2021-01-01T00:00:00\",\n",
    "    }\n",
    ")\n",
    "new_id = new_item_response.json()\n",
    "new_id = new_id[\"id\"]\n",
    "\n",
    "response = requests.get(\n",
    "    url=f\"http://localhost:8000/items/{new_id}\"\n",
    ")\n",
    "response.status_code"
   ]
  },
  {
   "cell_type": "code",
   "execution_count": 96,
   "metadata": {},
   "outputs": [
    {
     "data": {
      "text/plain": [
       "{'id': '573a00b5-f388-4c2c-99f7-a269a8ffcdc2',\n",
       " 'content': 'This is a new post.',\n",
       " 'title': 'New Post',\n",
       " 'published': True,\n",
       " 'created_at': '2021-01-01T00:00:00+00:00'}"
      ]
     },
     "execution_count": 96,
     "metadata": {},
     "output_type": "execute_result"
    }
   ],
   "source": [
    "new_post"
   ]
  },
  {
   "cell_type": "code",
   "execution_count": 98,
   "metadata": {},
   "outputs": [
    {
     "name": "stdout",
     "output_type": "stream",
     "text": [
      "{'id': '573a00b5-f388-4c2c-99f7-a269a8ffcdc2', 'content': 'This is a new post.', 'title': 'New Post', 'published': True, 'created_at': '2021-01-01T00:00:00+00:00'}\n"
     ]
    }
   ],
   "source": [
    "response = requests.get(\n",
    "    url=f\"http://localhost:8000/items/{new_id}\"\n",
    ")\n",
    "if response.status_code == 200:\n",
    "    print(response.json())"
   ]
  },
  {
   "cell_type": "code",
   "execution_count": 99,
   "metadata": {},
   "outputs": [
    {
     "data": {
      "text/plain": [
       "[{'id': '573a00b5-f388-4c2c-99f7-a269a8ffcdc2',\n",
       "  'content': 'This is a new post.',\n",
       "  'title': 'New Post',\n",
       "  'published': True,\n",
       "  'created_at': '2021-01-01T00:00:00+00:00'}]"
      ]
     },
     "execution_count": 99,
     "metadata": {},
     "output_type": "execute_result"
    }
   ],
   "source": [
    "response = requests.get(\n",
    "    url=f\"http://localhost:8000/items/\"\n",
    ")\n",
    "response.json()"
   ]
  }
 ],
 "metadata": {
  "kernelspec": {
   "display_name": ".venv",
   "language": "python",
   "name": "python3"
  },
  "language_info": {
   "codemirror_mode": {
    "name": "ipython",
    "version": 3
   },
   "file_extension": ".py",
   "mimetype": "text/x-python",
   "name": "python",
   "nbconvert_exporter": "python",
   "pygments_lexer": "ipython3",
   "version": "3.12.2"
  }
 },
 "nbformat": 4,
 "nbformat_minor": 2
}
